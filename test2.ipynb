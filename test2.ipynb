{
 "cells": [
  {
   "cell_type": "code",
   "execution_count": 1,
   "metadata": {
    "collapsed": true,
    "pycharm": {
     "is_executing": false
    }
   },
   "outputs": [],
   "source": [
    "from collections import Counter"
   ]
  },
  {
   "cell_type": "code",
   "execution_count": 2,
   "outputs": [
    {
     "name": "stdout",
     "text": [
      "Counter()\n"
     ],
     "output_type": "stream"
    }
   ],
   "source": [
    "import xlwt\n",
    "c1 = Counter()\n",
    "print(c1)"
   ],
   "metadata": {
    "collapsed": false,
    "pycharm": {
     "name": "#%%\n",
     "is_executing": false
    }
   }
  },
  {
   "cell_type": "code",
   "execution_count": 3,
   "outputs": [
    {
     "name": "stdout",
     "text": [
      "Counter({'a': 3, 'l': 2, 'g': 1, 'h': 1, 'd': 1})\n"
     ],
     "output_type": "stream"
    }
   ],
   "source": [
    "c2 = Counter('gallahad') \n",
    "print(c2)"
   ],
   "metadata": {
    "collapsed": false,
    "pycharm": {
     "name": "#%%\n",
     "is_executing": false
    }
   }
  },
  {
   "cell_type": "code",
   "execution_count": 8,
   "outputs": [
    {
     "name": "stdout",
     "text": [
      "Counter({'red': 4, 'blue': 2})\n4\n0\n"
     ],
     "output_type": "stream"
    }
   ],
   "source": [
    "c3 = Counter({'red': 4, 'blue': 2}) \n",
    "print(c3)\n",
    "print(c3['red'])\n",
    "print(c3['black'])"
   ],
   "metadata": {
    "collapsed": false,
    "pycharm": {
     "name": "#%%\n",
     "is_executing": false
    }
   }
  },
  {
   "cell_type": "code",
   "execution_count": 9,
   "outputs": [
    {
     "name": "stdout",
     "text": [
      "Counter({'dogs': 8, 'cats': 4})\nCounter({'dogs': 8, 'cats': 0})\nCounter({'dogs': 8})\n"
     ],
     "output_type": "stream"
    }
   ],
   "source": [
    "c4 = Counter(cats=4, dogs=8) \n",
    "print(c4)\n",
    "c4['cats'] = 0\n",
    "print(c4)\n",
    "del c4['cats']\n",
    "print(c4)"
   ],
   "metadata": {
    "collapsed": false,
    "pycharm": {
     "name": "#%%\n",
     "is_executing": false
    }
   }
  },
  {
   "cell_type": "code",
   "execution_count": 7,
   "outputs": [
    {
     "name": "stdout",
     "text": [
      "Counter({'dogs': 8, 'cats': -2})\nCounter({'dogs': 8, 'cats': 0})\n"
     ],
     "output_type": "stream"
    }
   ],
   "source": [
    "c5 = Counter(cats=-2, dogs=8) \n",
    "c6 = Counter(cats=0, dogs=8)\n",
    "print(c5)\n",
    "print(c6)"
   ],
   "metadata": {
    "collapsed": false,
    "pycharm": {
     "name": "#%%\n",
     "is_executing": false
    }
   }
  },
  {
   "cell_type": "code",
   "execution_count": 15,
   "outputs": [
    {
     "name": "stdout",
     "text": [
      "a,a,a,a,b,b,"
     ],
     "output_type": "stream"
    }
   ],
   "source": [
    "c = Counter(a=4, b=2, c=0, d=-2)\n",
    "for e in c.elements():\n",
    "    print(e,end=',')"
   ],
   "metadata": {
    "collapsed": false,
    "pycharm": {
     "name": "#%%\n",
     "is_executing": false
    }
   }
  },
  {
   "cell_type": "code",
   "execution_count": 16,
   "outputs": [
    {
     "name": "stdout",
     "text": [
      "[('a', 5), ('b', 2), ('r', 2)]\n"
     ],
     "output_type": "stream"
    }
   ],
   "source": [
    "print(Counter('abracadabra').most_common(3))"
   ],
   "metadata": {
    "collapsed": false,
    "pycharm": {
     "name": "#%%\n",
     "is_executing": false
    }
   }
  },
  {
   "cell_type": "code",
   "execution_count": 23,
   "outputs": [
    {
     "name": "stdout",
     "text": [
      "Counter({'a': 3, 'b': 0, 'c': -3, 'd': -6})\n"
     ],
     "output_type": "stream"
    }
   ],
   "source": [
    "c = Counter(a=4, b=2, c=0, d=-2)\n",
    "d = Counter(a=1, b=2, c=3, d=4)\n",
    "c.subtract(d)\n",
    "print(c)"
   ],
   "metadata": {
    "collapsed": false,
    "pycharm": {
     "name": "#%%\n",
     "is_executing": false
    }
   }
  },
  {
   "cell_type": "code",
   "execution_count": 40,
   "outputs": [
    {
     "name": "stdout",
     "text": [
      "8\n['g', 'a', 'l', 'h', 'd']\n{'h', 'l', 'd', 'a', 'g'}\n{'g': 1, 'a': 3, 'l': 2, 'h': 1, 'd': 1}\ndict_items([('g', 1), ('a', 3), ('l', 2), ('h', 1), ('d', 1)])\n[('d', 1), ('h', 1), ('g', 1)]\n[('l', 2), ('g', 1)]\nCounter()\n"
     ],
     "output_type": "stream"
    }
   ],
   "source": [
    "c = Counter('gallahad') \n",
    "\n",
    "print(sum(c.values()))  # 9\n",
    "print(list(c))\n",
    "print(set(c))\n",
    "print(dict(c))\n",
    "print(c.items())\n",
    "print(c.most_common()[:-4:-1])\n",
    "print(c.most_common()[1:3:])\n",
    "c.clear()\n",
    "print(c)"
   ],
   "metadata": {
    "collapsed": false,
    "pycharm": {
     "name": "#%%\n",
     "is_executing": false
    }
   }
  },
  {
   "cell_type": "code",
   "execution_count": 3,
   "outputs": [],
   "source": [
    "import xlwt\n",
    "book = xlwt.Workbook(encoding='utf-8')\n",
    "sheet = book.add_sheet('sheet1', cell_overwrite_ok=True)\n",
    "sheet.write(1,1,\"test\")"
   ],
   "metadata": {
    "collapsed": false,
    "pycharm": {
     "name": "#%%\n",
     "is_executing": false
    }
   }
  },
  {
   "cell_type": "code",
   "execution_count": 9,
   "outputs": [
    {
     "name": "stdout",
     "text": [
      "[7, 2, 3, [4, 5]]\n[1, 2, 3, [4, 5]]\n[1, 2, 3, [4, 5]]\n[7, 2, 3, [6, 5]]\n[1, 2, 3, [6, 5]]\n[1, 2, 3, [4, 5]]\n"
     ],
     "output_type": "stream"
    }
   ],
   "source": [
    "import copy\n",
    "list_copy = [1,2,3,[4,5]]\n",
    "\n",
    "c = copy.copy(list_copy)\n",
    "dc = copy.deepcopy(list_copy)\n",
    "\n",
    "list_copy[0] = 7\n",
    "print(list_copy)\n",
    "print(c)\n",
    "print(dc)\n",
    "\n",
    "list_copy[3][0] = 6\n",
    "print(list_copy)\n",
    "print(c)\n",
    "print(dc)"
   ],
   "metadata": {
    "collapsed": false,
    "pycharm": {
     "name": "#%%\n",
     "is_executing": false
    }
   }
  },
  {
   "cell_type": "code",
   "execution_count": 18,
   "outputs": [
    {
     "name": "stdout",
     "text": [
      "[1, 2, 3, [6, 5]]\n[1, 2, 3, [6, 5]]\n[1, 2, 3, [4, 5]]\n"
     ],
     "output_type": "stream"
    }
   ],
   "source": [
    "import copy\n",
    "list_copy = [1,2,3,[4,5]]\n",
    "\n",
    "c = copy.copy(list_copy)\n",
    "dc = copy.deepcopy(list_copy)\n",
    "\n",
    "list_copy[3][0] = 6\n",
    "print(list_copy)\n",
    "print(c)\n",
    "print(dc)"
   ],
   "metadata": {
    "collapsed": false,
    "pycharm": {
     "name": "#%%\n",
     "is_executing": false
    }
   }
  },
  {
   "cell_type": "code",
   "execution_count": 20,
   "outputs": [
    {
     "name": "stdout",
     "text": [
      "[1, 2, 3, [6, 5]]\n[1, 2, 3, [6, 5]]\n[1, 2, 3, [4, 5]]\n"
     ],
     "output_type": "stream"
    }
   ],
   "source": [
    "import copy\n",
    "list_copy = [1,2,3,[4,5]]\n",
    "\n",
    "c = copy.copy(list_copy)\n",
    "dc = copy.deepcopy(list_copy)\n",
    "\n",
    "c[3][0] = 6\n",
    "print(list_copy)\n",
    "print(c)\n",
    "print(dc)"
   ],
   "metadata": {
    "collapsed": false,
    "pycharm": {
     "name": "#%%\n",
     "is_executing": false
    }
   }
  },
  {
   "cell_type": "code",
   "execution_count": 21,
   "outputs": [
    {
     "name": "stdout",
     "text": [
      "[1, 2, 3, [4, 5]]\n[1, 2, 3, [4, 5]]\n[1, 2, 3, [6, 5]]\n"
     ],
     "output_type": "stream"
    }
   ],
   "source": [
    "import copy\n",
    "list_copy = [1,2,3,[4,5]]\n",
    "\n",
    "c = copy.copy(list_copy)\n",
    "dc = copy.deepcopy(list_copy)\n",
    "\n",
    "dc[3][0] = 6\n",
    "print(list_copy)\n",
    "print(c)\n",
    "print(dc)"
   ],
   "metadata": {
    "collapsed": false,
    "pycharm": {
     "name": "#%%\n",
     "is_executing": false
    }
   }
  },
  {
   "cell_type": "code",
   "execution_count": 24,
   "outputs": [
    {
     "name": "stdout",
     "text": [
      "140721698988816\n140721698988816\n140721698988816\n140721698988848\n140721698988848\n140721698988848\n"
     ],
     "output_type": "stream"
    }
   ],
   "source": [
    "import copy\n",
    "\n",
    "a = 5\n",
    "\n",
    "ca = copy.copy(a)\n",
    "dca = copy.deepcopy(a)\n",
    "\n",
    "print(id(a))\n",
    "print(id(ca))\n",
    "print(id(dca))\n",
    "\n",
    "a = 6\n",
    "\n",
    "ca = copy.copy(a)\n",
    "dca = copy.deepcopy(a)\n",
    "\n",
    "print(id(a))\n",
    "print(id(ca))\n",
    "print(id(dca))\n"
   ],
   "metadata": {
    "collapsed": false,
    "pycharm": {
     "name": "#%%\n",
     "is_executing": false
    }
   }
  }
 ],
 "metadata": {
  "kernelspec": {
   "display_name": "Python 3",
   "language": "python",
   "name": "python3"
  },
  "language_info": {
   "codemirror_mode": {
    "name": "ipython",
    "version": 2
   },
   "file_extension": ".py",
   "mimetype": "text/x-python",
   "name": "python",
   "nbconvert_exporter": "python",
   "pygments_lexer": "ipython2",
   "version": "2.7.6"
  },
  "pycharm": {
   "stem_cell": {
    "cell_type": "raw",
    "source": [],
    "metadata": {
     "collapsed": false
    }
   }
  }
 },
 "nbformat": 4,
 "nbformat_minor": 0
}